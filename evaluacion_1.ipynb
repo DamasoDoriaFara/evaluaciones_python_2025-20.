{
  "nbformat": 4,
  "nbformat_minor": 0,
  "metadata": {
    "colab": {
      "provenance": [],
      "include_colab_link": true
    },
    "kernelspec": {
      "name": "python3",
      "display_name": "Python 3"
    },
    "language_info": {
      "name": "python"
    }
  },
  "cells": [
    {
      "cell_type": "markdown",
      "metadata": {
        "id": "view-in-github",
        "colab_type": "text"
      },
      "source": [
        "<a href=\"https://colab.research.google.com/github/DamasoDoriaFara/evaluaciones_python_2025-20./blob/main/evaluacion_1.ipynb\" target=\"_parent\"><img src=\"https://colab.research.google.com/assets/colab-badge.svg\" alt=\"Open In Colab\"/></a>"
      ]
    },
    {
      "cell_type": "markdown",
      "source": [
        "EXERCISE 1: Write a program that receives a sentance from the user and display how many times each unique letter appear. ignore space and makes the comparison case-intensive"
      ],
      "metadata": {
        "id": "3Uq1_SvJ7axH"
      }
    },
    {
      "cell_type": "code",
      "source": [
        "# 1ER PUNTO DEL EXAMEN:\n",
        "def contar_letras(frase):# Convertimos a minúsculas\n",
        "    frase = frase.lower()\n",
        "    letras = {} # Diccionario vacío\n",
        "    for letra in frase:\n",
        "        if letra != \" \":# Ignorar espacios\n",
        "            if letra in letras:\n",
        "                letras[letra] = letras[letra] + 1 # Sumar 1 si ya existe\n",
        "            else:\n",
        "                letras[letra] = 1 # Iniciar contador si es nueva\n",
        "\n",
        "    for letra in letras:\n",
        "        print(letra + \": \" + str(letras[letra])) # Mostrar letra y su frecuencia\n",
        "\n",
        "        # Entrada del usuario\n",
        "\n",
        "texto = input(\"Escribe una frase: \").strip()\n",
        "contar_letras(texto)"
      ],
      "metadata": {
        "id": "H8aim004rhNy"
      },
      "execution_count": null,
      "outputs": []
    },
    {
      "cell_type": "markdown",
      "source": [
        "Problem #2: word_initial_count\n",
        "\n",
        "Write a program that receives a list of words and counts how many of them start with the same initial letter. Ignore case sensitivity."
      ],
      "metadata": {
        "id": "V7fuKqbp3vFx"
      }
    },
    {
      "cell_type": "code",
      "source": [
        "# 2do PUNTO DEL EXAMEN:\n",
        "def contar_iniciales(lista_palabras):\n",
        "    iniciales = {} # Diccionario vacío para contar las letras\n",
        "    for palabra in lista_palabras:\n",
        "        palabra = palabra.lower()# Convertimos toda la palabra a minúscula\n",
        "        inicial = palabra[0] # Tomamos la primera letra\n",
        "        if inicial in iniciales:\n",
        "            iniciales[inicial] = iniciales[inicial] + 1 # Si ya existe, sumamos 1\n",
        "        else:\n",
        "            iniciales[inicial] = 1# Si no existe, la iniciamos en 1\n",
        "    for letra in iniciales:\n",
        "        print(letra + \": \" + str(iniciales[letra]))\n",
        "        # Lista de palabras\n",
        "palabras = [\"mango\", \"pescado\", \"banana\", \"corozo\", \"gato\", \"sandia\"]\n",
        "contar_iniciales(palabras)"
      ],
      "metadata": {
        "id": "9QSG-zx9QDXB"
      },
      "execution_count": null,
      "outputs": []
    },
    {
      "cell_type": "markdown",
      "source": [
        "Problem #3: product_price_analysis\n",
        "\n",
        "Write a program that receives a dictionary of products. Each product has a unique code as key, and its value is another dictionary containing"
      ],
      "metadata": {
        "id": "kpX15sAJ349t"
      }
    },
    {
      "cell_type": "code",
      "source": [
        "# 3ER PUNTO DEL EXAMEN:\n",
        "def analizar_precios(productos):\n",
        "    mas_barato = None\n",
        "    mas_caro = None\n",
        "    for codigo in productos:\n",
        "        producto = productos[codigo]\n",
        "        precio = producto[\"price\"]\n",
        "        if mas_barato == None or precio < mas_barato[\"price\"]:\n",
        "            mas_barato = producto\n",
        "\n",
        "        if mas_caro == None or precio > mas_caro[\"price\"]:\n",
        "            mas_caro = producto\n",
        "    print(\"Mas barato: \" + mas_barato[\"name\"] + \" - $\" + str(mas_barato[\"price\"]))\n",
        "    print(\"Mas caro: \" + mas_caro[\"name\"] + \" - $\" + str(mas_caro[\"price\"]))\n",
        "productos = {\n",
        "    \"P01\": {\"name\": \"jugo de mango\", \"price\": 1.500},\n",
        "    \"P02\": {\"name\": \"empanadas\", \"price\": 1.200},\n",
        "    \"P03\": {\"name\": \"jugo de naranja\", \"price\": 1.600}\n",
        "}\n",
        "\n",
        "analizar_precios(productos)"
      ],
      "metadata": {
        "id": "REcuCawcTNQR"
      },
      "execution_count": null,
      "outputs": []
    }
  ]
}